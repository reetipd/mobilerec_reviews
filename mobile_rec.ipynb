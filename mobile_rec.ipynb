{
 "cells": [
  {
   "cell_type": "code",
   "execution_count": 2,
   "metadata": {},
   "outputs": [],
   "source": [
    "import pandas as pd"
   ]
  },
  {
   "cell_type": "markdown",
   "metadata": {},
   "source": [
    "1. **Data Collection**"
   ]
  },
  {
   "cell_type": "code",
   "execution_count": 3,
   "metadata": {},
   "outputs": [
    {
     "data": {
      "text/html": [
       "<div>\n",
       "<style scoped>\n",
       "    .dataframe tbody tr th:only-of-type {\n",
       "        vertical-align: middle;\n",
       "    }\n",
       "\n",
       "    .dataframe tbody tr th {\n",
       "        vertical-align: top;\n",
       "    }\n",
       "\n",
       "    .dataframe thead th {\n",
       "        text-align: right;\n",
       "    }\n",
       "</style>\n",
       "<table border=\"1\" class=\"dataframe\">\n",
       "  <thead>\n",
       "    <tr style=\"text-align: right;\">\n",
       "      <th></th>\n",
       "      <th>app_package</th>\n",
       "      <th>review</th>\n",
       "      <th>rating</th>\n",
       "      <th>votes</th>\n",
       "      <th>date</th>\n",
       "      <th>uid</th>\n",
       "      <th>formated_date</th>\n",
       "      <th>unix_timestamp</th>\n",
       "      <th>app_category</th>\n",
       "    </tr>\n",
       "  </thead>\n",
       "  <tbody>\n",
       "    <tr>\n",
       "      <th>0</th>\n",
       "      <td>com.cleverapps.heroes</td>\n",
       "      <td>It's really a fun game</td>\n",
       "      <td>5</td>\n",
       "      <td>1</td>\n",
       "      <td>October 21, 2018</td>\n",
       "      <td>shqoc6X1fcJRLEmx</td>\n",
       "      <td>2018-10-21</td>\n",
       "      <td>1.540094e+09</td>\n",
       "      <td>Casual</td>\n",
       "    </tr>\n",
       "    <tr>\n",
       "      <th>1</th>\n",
       "      <td>com.bodyfast</td>\n",
       "      <td>uninstalling. it was ok but felt like it was c...</td>\n",
       "      <td>2</td>\n",
       "      <td>0</td>\n",
       "      <td>January 18, 2019</td>\n",
       "      <td>shqoc6X1fcJRLEmx</td>\n",
       "      <td>2019-01-18</td>\n",
       "      <td>1.547788e+09</td>\n",
       "      <td>Health &amp; Fitness</td>\n",
       "    </tr>\n",
       "    <tr>\n",
       "      <th>2</th>\n",
       "      <td>com.thrivegames.wordshapes</td>\n",
       "      <td>Love this game</td>\n",
       "      <td>4</td>\n",
       "      <td>1</td>\n",
       "      <td>January 16, 2021</td>\n",
       "      <td>shqoc6X1fcJRLEmx</td>\n",
       "      <td>2021-01-16</td>\n",
       "      <td>1.610773e+09</td>\n",
       "      <td>Word</td>\n",
       "    </tr>\n",
       "    <tr>\n",
       "      <th>3</th>\n",
       "      <td>com.affinity.rewarded_play</td>\n",
       "      <td>Doesn't update play time. Just downloaded it 3...</td>\n",
       "      <td>1</td>\n",
       "      <td>1</td>\n",
       "      <td>November 4, 2021</td>\n",
       "      <td>shqoc6X1fcJRLEmx</td>\n",
       "      <td>2021-11-04</td>\n",
       "      <td>1.635998e+09</td>\n",
       "      <td>Entertainment</td>\n",
       "    </tr>\n",
       "    <tr>\n",
       "      <th>4</th>\n",
       "      <td>dating.inmessage.net</td>\n",
       "      <td>app crashes every time I try to log in. what g...</td>\n",
       "      <td>1</td>\n",
       "      <td>0</td>\n",
       "      <td>November 24, 2021</td>\n",
       "      <td>shqoc6X1fcJRLEmx</td>\n",
       "      <td>2021-11-24</td>\n",
       "      <td>1.637730e+09</td>\n",
       "      <td>Dating</td>\n",
       "    </tr>\n",
       "  </tbody>\n",
       "</table>\n",
       "</div>"
      ],
      "text/plain": [
       "                  app_package  \\\n",
       "0       com.cleverapps.heroes   \n",
       "1                com.bodyfast   \n",
       "2  com.thrivegames.wordshapes   \n",
       "3  com.affinity.rewarded_play   \n",
       "4        dating.inmessage.net   \n",
       "\n",
       "                                              review  rating  votes  \\\n",
       "0                             It's really a fun game       5      1   \n",
       "1  uninstalling. it was ok but felt like it was c...       2      0   \n",
       "2                                     Love this game       4      1   \n",
       "3  Doesn't update play time. Just downloaded it 3...       1      1   \n",
       "4  app crashes every time I try to log in. what g...       1      0   \n",
       "\n",
       "                date               uid formated_date  unix_timestamp  \\\n",
       "0   October 21, 2018  shqoc6X1fcJRLEmx    2018-10-21    1.540094e+09   \n",
       "1   January 18, 2019  shqoc6X1fcJRLEmx    2019-01-18    1.547788e+09   \n",
       "2   January 16, 2021  shqoc6X1fcJRLEmx    2021-01-16    1.610773e+09   \n",
       "3   November 4, 2021  shqoc6X1fcJRLEmx    2021-11-04    1.635998e+09   \n",
       "4  November 24, 2021  shqoc6X1fcJRLEmx    2021-11-24    1.637730e+09   \n",
       "\n",
       "       app_category  \n",
       "0            Casual  \n",
       "1  Health & Fitness  \n",
       "2              Word  \n",
       "3     Entertainment  \n",
       "4            Dating  "
      ]
     },
     "metadata": {},
     "output_type": "display_data"
    }
   ],
   "source": [
    "df = pd.read_csv('mobilerec_final.csv')\n",
    "display(df.head(5))"
   ]
  },
  {
   "cell_type": "markdown",
   "metadata": {},
   "source": [
    "2. **Data Cleaning**\n",
    "\n",
    "\n",
    ">Firstly, we are cleaning the dataframe by removing the rows with NaN values in the reviews column\n",
    "\n",
    "> Then, we are removing stopwords from the reviews. We are removing them because they don't add any additional meaning to the text. So we can remove them to have cleaner text. This is usually necessary for NLP approaches, for instance, when we use text based sentiment analysis approach."
   ]
  },
  {
   "cell_type": "code",
   "execution_count": 6,
   "metadata": {},
   "outputs": [
    {
     "name": "stderr",
     "output_type": "stream",
     "text": [
      "[nltk_data] Downloading package stopwords to\n",
      "[nltk_data]     C:\\Users\\Admin\\AppData\\Roaming\\nltk_data...\n",
      "[nltk_data]   Package stopwords is already up-to-date!\n"
     ]
    },
    {
     "data": {
      "text/html": [
       "<div>\n",
       "<style scoped>\n",
       "    .dataframe tbody tr th:only-of-type {\n",
       "        vertical-align: middle;\n",
       "    }\n",
       "\n",
       "    .dataframe tbody tr th {\n",
       "        vertical-align: top;\n",
       "    }\n",
       "\n",
       "    .dataframe thead th {\n",
       "        text-align: right;\n",
       "    }\n",
       "</style>\n",
       "<table border=\"1\" class=\"dataframe\">\n",
       "  <thead>\n",
       "    <tr style=\"text-align: right;\">\n",
       "      <th></th>\n",
       "      <th>app_package</th>\n",
       "      <th>review</th>\n",
       "      <th>rating</th>\n",
       "      <th>votes</th>\n",
       "      <th>date</th>\n",
       "      <th>uid</th>\n",
       "      <th>formated_date</th>\n",
       "      <th>unix_timestamp</th>\n",
       "      <th>app_category</th>\n",
       "      <th>cleaned_text</th>\n",
       "    </tr>\n",
       "  </thead>\n",
       "  <tbody>\n",
       "    <tr>\n",
       "      <th>0</th>\n",
       "      <td>com.cleverapps.heroes</td>\n",
       "      <td>It's really a fun game</td>\n",
       "      <td>5</td>\n",
       "      <td>1</td>\n",
       "      <td>October 21, 2018</td>\n",
       "      <td>shqoc6X1fcJRLEmx</td>\n",
       "      <td>2018-10-21</td>\n",
       "      <td>1.540094e+09</td>\n",
       "      <td>Casual</td>\n",
       "      <td>really fun game</td>\n",
       "    </tr>\n",
       "    <tr>\n",
       "      <th>1</th>\n",
       "      <td>com.bodyfast</td>\n",
       "      <td>uninstalling. it was ok but felt like it was c...</td>\n",
       "      <td>2</td>\n",
       "      <td>0</td>\n",
       "      <td>January 18, 2019</td>\n",
       "      <td>shqoc6X1fcJRLEmx</td>\n",
       "      <td>2019-01-18</td>\n",
       "      <td>1.547788e+09</td>\n",
       "      <td>Health &amp; Fitness</td>\n",
       "      <td>uninstalling. ok felt like controlling hours e...</td>\n",
       "    </tr>\n",
       "    <tr>\n",
       "      <th>2</th>\n",
       "      <td>com.thrivegames.wordshapes</td>\n",
       "      <td>Love this game</td>\n",
       "      <td>4</td>\n",
       "      <td>1</td>\n",
       "      <td>January 16, 2021</td>\n",
       "      <td>shqoc6X1fcJRLEmx</td>\n",
       "      <td>2021-01-16</td>\n",
       "      <td>1.610773e+09</td>\n",
       "      <td>Word</td>\n",
       "      <td>Love game</td>\n",
       "    </tr>\n",
       "    <tr>\n",
       "      <th>3</th>\n",
       "      <td>com.affinity.rewarded_play</td>\n",
       "      <td>Doesn't update play time. Just downloaded it 3...</td>\n",
       "      <td>1</td>\n",
       "      <td>1</td>\n",
       "      <td>November 4, 2021</td>\n",
       "      <td>shqoc6X1fcJRLEmx</td>\n",
       "      <td>2021-11-04</td>\n",
       "      <td>1.635998e+09</td>\n",
       "      <td>Entertainment</td>\n",
       "      <td>update play time. downloaded 3 days ago give c...</td>\n",
       "    </tr>\n",
       "    <tr>\n",
       "      <th>4</th>\n",
       "      <td>dating.inmessage.net</td>\n",
       "      <td>app crashes every time I try to log in. what g...</td>\n",
       "      <td>1</td>\n",
       "      <td>0</td>\n",
       "      <td>November 24, 2021</td>\n",
       "      <td>shqoc6X1fcJRLEmx</td>\n",
       "      <td>2021-11-24</td>\n",
       "      <td>1.637730e+09</td>\n",
       "      <td>Dating</td>\n",
       "      <td>app crashes every time try log in. gives.</td>\n",
       "    </tr>\n",
       "  </tbody>\n",
       "</table>\n",
       "</div>"
      ],
      "text/plain": [
       "                  app_package  \\\n",
       "0       com.cleverapps.heroes   \n",
       "1                com.bodyfast   \n",
       "2  com.thrivegames.wordshapes   \n",
       "3  com.affinity.rewarded_play   \n",
       "4        dating.inmessage.net   \n",
       "\n",
       "                                              review  rating  votes  \\\n",
       "0                             It's really a fun game       5      1   \n",
       "1  uninstalling. it was ok but felt like it was c...       2      0   \n",
       "2                                     Love this game       4      1   \n",
       "3  Doesn't update play time. Just downloaded it 3...       1      1   \n",
       "4  app crashes every time I try to log in. what g...       1      0   \n",
       "\n",
       "                date               uid formated_date  unix_timestamp  \\\n",
       "0   October 21, 2018  shqoc6X1fcJRLEmx    2018-10-21    1.540094e+09   \n",
       "1   January 18, 2019  shqoc6X1fcJRLEmx    2019-01-18    1.547788e+09   \n",
       "2   January 16, 2021  shqoc6X1fcJRLEmx    2021-01-16    1.610773e+09   \n",
       "3   November 4, 2021  shqoc6X1fcJRLEmx    2021-11-04    1.635998e+09   \n",
       "4  November 24, 2021  shqoc6X1fcJRLEmx    2021-11-24    1.637730e+09   \n",
       "\n",
       "       app_category                                       cleaned_text  \n",
       "0            Casual                                    really fun game  \n",
       "1  Health & Fitness  uninstalling. ok felt like controlling hours e...  \n",
       "2              Word                                          Love game  \n",
       "3     Entertainment  update play time. downloaded 3 days ago give c...  \n",
       "4            Dating          app crashes every time try log in. gives.  "
      ]
     },
     "metadata": {},
     "output_type": "display_data"
    }
   ],
   "source": [
    "import nltk\n",
    "from nltk.corpus import stopwords\n",
    "\n",
    "nltk.download('stopwords')\n",
    "stop_words = set(stopwords.words('english'))\n",
    "\n",
    "# function to remove stopword from the dataframe\n",
    "def remove_stopwords(text):\n",
    "    if isinstance(text, str):\n",
    "        words = text.split()\n",
    "        filtered_words = [word for word in words if word.lower() not in stop_words]\n",
    "        filtered_text = \" \".join(filtered_words)\n",
    "        return filtered_text\n",
    "    else:\n",
    "        return \"\"\n",
    "\n",
    "# cleaned dataframe\n",
    "df['cleaned_text'] = df['review'].apply(remove_stopwords)\n",
    "\n",
    "display(df.head(5))"
   ]
  },
  {
   "cell_type": "markdown",
   "metadata": {},
   "source": [
    "3. **Filtering Review**\n",
    "\n",
    "\n",
    "> We filter reviews to isolate those that contain the identified keywords, which are likely to express concerns regarding app security and privacy.\n"
   ]
  },
  {
   "cell_type": "code",
   "execution_count": null,
   "metadata": {},
   "outputs": [],
   "source": [
    "keywords = [\"unsafe\", \"hack\", \"privacy\", \"malware\",\n",
    "            \"data leak\", \"safety\", \"permissions\"]\n",
    "\n",
    "# filter the reviews containing the listed tokens or keywords\n",
    "filtered_reviews = df[df['review'].str.contains('|'.join(keywords), case=False, na=False)]\n",
    "\n",
    "display(filtered_reviews.head5)"
   ]
  },
  {
   "cell_type": "markdown",
   "metadata": {},
   "source": [
    "We can get a closer look at what the data we are focusing on looks like"
   ]
  },
  {
   "cell_type": "code",
   "execution_count": 22,
   "metadata": {},
   "outputs": [],
   "source": [
    "data = filtered_reviews[[\"review\",\"rating\",\"app_category\"]]\n",
    "positive = data[data[\"rating\"] > 3]\n",
    "negative = data[data[\"rating\"] <= 3]"
   ]
  },
  {
   "cell_type": "code",
   "execution_count": 23,
   "metadata": {},
   "outputs": [
    {
     "name": "stdout",
     "output_type": "stream",
     "text": [
      "Shape of positive rating reviews: (23925, 3)\n"
     ]
    },
    {
     "data": {
      "text/html": [
       "<div>\n",
       "<style scoped>\n",
       "    .dataframe tbody tr th:only-of-type {\n",
       "        vertical-align: middle;\n",
       "    }\n",
       "\n",
       "    .dataframe tbody tr th {\n",
       "        vertical-align: top;\n",
       "    }\n",
       "\n",
       "    .dataframe thead th {\n",
       "        text-align: right;\n",
       "    }\n",
       "</style>\n",
       "<table border=\"1\" class=\"dataframe\">\n",
       "  <thead>\n",
       "    <tr style=\"text-align: right;\">\n",
       "      <th></th>\n",
       "      <th>review</th>\n",
       "      <th>rating</th>\n",
       "      <th>app_category</th>\n",
       "    </tr>\n",
       "  </thead>\n",
       "  <tbody>\n",
       "    <tr>\n",
       "      <th>213</th>\n",
       "      <td>This is a great app overall! After dealing with some, frankly, shady people in some uncomfortable or unsafe situations, I applaud Mercari for making shipping automatic and easy. The app itself can be a little confusing to navigate, (hence the 4 stars). But, because of Mercari, I doubt I'll ever use Let Go or Offer Up again. Thank you :)</td>\n",
       "      <td>4</td>\n",
       "      <td>Shopping</td>\n",
       "    </tr>\n",
       "    <tr>\n",
       "      <th>458</th>\n",
       "      <td>Since the last update, this app has completely become useless! To explain clearer, it can't connect to the microphone and can't record audio which means that you and the other side are both unable to hear each other. Completely mute! All required permissions are allowed and all settings are correct. It will be great if you solve this issue and I'll edit my review. Good luck ✌️.</td>\n",
       "      <td>5</td>\n",
       "      <td>Tools</td>\n",
       "    </tr>\n",
       "    <tr>\n",
       "      <th>1178</th>\n",
       "      <td>Works BUT it asks for superuser permissions every 5 seconds. Why?</td>\n",
       "      <td>4</td>\n",
       "      <td>Communication</td>\n",
       "    </tr>\n",
       "    <tr>\n",
       "      <th>2071</th>\n",
       "      <td>Overall, I love this game. Every time there is an update, me friends list gets out of whack and won't sort. Every menu I open is extremely laggy to the point that it will select thing rather than scroll. The updates always seem to throw my GPS location off too and I have to constantly toggle my location services off then back on every block or two. This latest update, won't even load the map. I can still interact with pokemon and pokestops but, if I'm in a new area, I can't tell where they are.</td>\n",
       "      <td>4</td>\n",
       "      <td>Adventure</td>\n",
       "    </tr>\n",
       "    <tr>\n",
       "      <th>3040</th>\n",
       "      <td>Great app, use for hunting and hacking and fishing.</td>\n",
       "      <td>5</td>\n",
       "      <td>Maps &amp; Navigation</td>\n",
       "    </tr>\n",
       "  </tbody>\n",
       "</table>\n",
       "</div>"
      ],
      "text/plain": [
       "                                                                                                                                                                                                                                                                                                                                                                                                                                                                                                                   review  \\\n",
       "213                                                                                                                                                                    This is a great app overall! After dealing with some, frankly, shady people in some uncomfortable or unsafe situations, I applaud Mercari for making shipping automatic and easy. The app itself can be a little confusing to navigate, (hence the 4 stars). But, because of Mercari, I doubt I'll ever use Let Go or Offer Up again. Thank you :)   \n",
       "458                                                                                                                          Since the last update, this app has completely become useless! To explain clearer, it can't connect to the microphone and can't record audio which means that you and the other side are both unable to hear each other. Completely mute! All required permissions are allowed and all settings are correct. It will be great if you solve this issue and I'll edit my review. Good luck ✌️.   \n",
       "1178                                                                                                                                                                                                                                                                                                                                                                                                                                                    Works BUT it asks for superuser permissions every 5 seconds. Why?   \n",
       "2071  Overall, I love this game. Every time there is an update, me friends list gets out of whack and won't sort. Every menu I open is extremely laggy to the point that it will select thing rather than scroll. The updates always seem to throw my GPS location off too and I have to constantly toggle my location services off then back on every block or two. This latest update, won't even load the map. I can still interact with pokemon and pokestops but, if I'm in a new area, I can't tell where they are.   \n",
       "3040                                                                                                                                                                                                                                                                                                                                                                                                                                                                  Great app, use for hunting and hacking and fishing.   \n",
       "\n",
       "      rating       app_category  \n",
       "213        4           Shopping  \n",
       "458        5              Tools  \n",
       "1178       4      Communication  \n",
       "2071       4          Adventure  \n",
       "3040       5  Maps & Navigation  "
      ]
     },
     "metadata": {},
     "output_type": "display_data"
    }
   ],
   "source": [
    "print(\"Shape of positive rating reviews:\", positive.shape)\n",
    "pd.set_option('max_colwidth',None)\n",
    "display(positive.head(5))"
   ]
  },
  {
   "cell_type": "code",
   "execution_count": 24,
   "metadata": {},
   "outputs": [
    {
     "name": "stdout",
     "output_type": "stream",
     "text": [
      "Shape of negative rating reviews: (61477, 3)\n"
     ]
    },
    {
     "data": {
      "text/html": [
       "<div>\n",
       "<style scoped>\n",
       "    .dataframe tbody tr th:only-of-type {\n",
       "        vertical-align: middle;\n",
       "    }\n",
       "\n",
       "    .dataframe tbody tr th {\n",
       "        vertical-align: top;\n",
       "    }\n",
       "\n",
       "    .dataframe thead th {\n",
       "        text-align: right;\n",
       "    }\n",
       "</style>\n",
       "<table border=\"1\" class=\"dataframe\">\n",
       "  <thead>\n",
       "    <tr style=\"text-align: right;\">\n",
       "      <th></th>\n",
       "      <th>review</th>\n",
       "      <th>rating</th>\n",
       "      <th>app_category</th>\n",
       "    </tr>\n",
       "  </thead>\n",
       "  <tbody>\n",
       "    <tr>\n",
       "      <th>415</th>\n",
       "      <td>Keep getting errors \"failed to connect to____\" after install. Something like HDong or similar. Their privacy policy is not loading on my wifi or carrier network. Very sketchy so far, keep your data safe.</td>\n",
       "      <td>1</td>\n",
       "      <td>Productivity</td>\n",
       "    </tr>\n",
       "    <tr>\n",
       "      <th>583</th>\n",
       "      <td>I have to use this for my Galaxy Bud Pro earphones. You cannot access any features to control the headphones with giving it permissions to literally EVERYTHING on your phone which is completely unacceptable. A person should be able to toggle ambient noise pass through with giving their headphones access to LOCATION, CONTACTS, SMS, CALL HISTORY, STORAGE and more. Lazy development, poor execution on the application. Do better please. My Jabra Sound plus requires NONE of those to do its job.</td>\n",
       "      <td>1</td>\n",
       "      <td>Tools</td>\n",
       "    </tr>\n",
       "    <tr>\n",
       "      <th>747</th>\n",
       "      <td>Too much access to your phone, no privacy policy to be found on their website and no source code to skim either. Uninstalled. Otherwise, it was great.</td>\n",
       "      <td>2</td>\n",
       "      <td>Personalization</td>\n",
       "    </tr>\n",
       "    <tr>\n",
       "      <th>1017</th>\n",
       "      <td>So I started a new account and now that I have better stuff I was able to complete all of the task however the game still needs a lot of work also you have hackers in your game</td>\n",
       "      <td>3</td>\n",
       "      <td>Action</td>\n",
       "    </tr>\n",
       "    <tr>\n",
       "      <th>1198</th>\n",
       "      <td>Way too many permissions and data collection. I own a fossil smart watch and wanted the official app for it but way too much to agree to.</td>\n",
       "      <td>1</td>\n",
       "      <td>Lifestyle</td>\n",
       "    </tr>\n",
       "  </tbody>\n",
       "</table>\n",
       "</div>"
      ],
      "text/plain": [
       "                                                                                                                                                                                                                                                                                                                                                                                                                                                                                                             review  \\\n",
       "415                                                                                                                                                                                                                                                                                                     Keep getting errors \"failed to connect to____\" after install. Something like HDong or similar. Their privacy policy is not loading on my wifi or carrier network. Very sketchy so far, keep your data safe.   \n",
       "583   I have to use this for my Galaxy Bud Pro earphones. You cannot access any features to control the headphones with giving it permissions to literally EVERYTHING on your phone which is completely unacceptable. A person should be able to toggle ambient noise pass through with giving their headphones access to LOCATION, CONTACTS, SMS, CALL HISTORY, STORAGE and more. Lazy development, poor execution on the application. Do better please. My Jabra Sound plus requires NONE of those to do its job.   \n",
       "747                                                                                                                                                                                                                                                                                                                                                          Too much access to your phone, no privacy policy to be found on their website and no source code to skim either. Uninstalled. Otherwise, it was great.   \n",
       "1017                                                                                                                                                                                                                                                                                                                               So I started a new account and now that I have better stuff I was able to complete all of the task however the game still needs a lot of work also you have hackers in your game   \n",
       "1198                                                                                                                                                                                                                                                                                                                                                                      Way too many permissions and data collection. I own a fossil smart watch and wanted the official app for it but way too much to agree to.   \n",
       "\n",
       "      rating     app_category  \n",
       "415        1     Productivity  \n",
       "583        1            Tools  \n",
       "747        2  Personalization  \n",
       "1017       3           Action  \n",
       "1198       1        Lifestyle  "
      ]
     },
     "metadata": {},
     "output_type": "display_data"
    }
   ],
   "source": [
    "print(\"Shape of negative rating reviews:\", negative.shape)\n",
    "display(negative.head(5))"
   ]
  },
  {
   "cell_type": "markdown",
   "metadata": {},
   "source": [
    "> Based on the above size of both positive and negative reviews, we can conclude that there are many apps that pose security and privacy concerns to the users."
   ]
  },
  {
   "cell_type": "markdown",
   "metadata": {},
   "source": [
    "A visualization to analyze the reviews to find whether they cause security concerns or not based on the user ratings and filtered review"
   ]
  },
  {
   "cell_type": "code",
   "execution_count": 25,
   "metadata": {},
   "outputs": [
    {
     "data": {
      "text/plain": [
       "<AxesSubplot:>"
      ]
     },
     "execution_count": 25,
     "metadata": {},
     "output_type": "execute_result"
    },
    {
     "data": {
      "image/png": "[encoded data removed]",
      "text/plain": [
       "<Figure size 432x288 with 1 Axes>"
      ]
     },
     "metadata": {
      "needs_background": "light"
     },
     "output_type": "display_data"
    }
   ],
   "source": [
    "import seaborn as sns\n",
    "sns.barplot(x=data.rating.value_counts().index, y=data.rating.value_counts().values)"
   ]
  },
  {
   "cell_type": "markdown",
   "metadata": {},
   "source": [
    "Analyze the most vulnerable app category"
   ]
  },
  {
   "cell_type": "code",
   "execution_count": 27,
   "metadata": {},
   "outputs": [
    {
     "data": {
      "image/png": "[encoded data removed]",
      "text/plain": [
       "<Figure size 864x432 with 1 Axes>"
      ]
     },
     "metadata": {
      "needs_background": "light"
     },
     "output_type": "display_data"
    }
   ],
   "source": [
    "import matplotlib.pyplot as plt\n",
    "plt.figure(figsize=(12, 6))\n",
    "sns.countplot(data=negative, y='app_category', order=negative['app_category'].value_counts().index)\n",
    "plt.title('Number of Negative Reviews by App Category')\n",
    "plt.xlabel('Number of Negative Reviews')\n",
    "plt.ylabel('App Category')\n",
    "plt.tight_layout()\n",
    "plt.show()"
   ]
  },
  {
   "cell_type": "markdown",
   "metadata": {},
   "source": [
    "The apps falling under the category `Action` seem to be more vulnerable compared to other apps."
   ]
  },
  {
   "cell_type": "markdown",
   "metadata": {},
   "source": [
    "**4. Categorizing review based on rating**\n",
    "\n",
    "\n",
    "> *rating > 3 is considered as a positive review*\n",
    "\n",
    "\n",
    "\n",
    "> *rating <- 3 is considered as a negative review*"
   ]
  },
  {
   "cell_type": "code",
   "execution_count": null,
   "metadata": {},
   "outputs": [],
   "source": [
    "# assume that if the rating is less than 3, it's unsafe app\n",
    "unsafe_apps = filtered_reviews[filtered_reviews['rating'] <= 3]['app_name'].unique()\n",
    "\n",
    "# assume that if the rating is greater than 3, it's a safe app\n",
    "safe_apps = filtered_reviews[filtered_reviews['rating'] > 3]['app_name'].unique()\n",
    "\n",
    "print(\"Unsafe Apps:\", unsafe_apps)\n",
    "print(\"Safe Apps:\", safe_apps)"
   ]
  }
 ],
 "metadata": {
  "kernelspec": {
   "display_name": "Python 3",
   "language": "python",
   "name": "python3"
  },
  "language_info": {
   "codemirror_mode": {
    "name": "ipython",
    "version": 3
   },
   "file_extension": ".py",
   "mimetype": "text/x-python",
   "name": "python",
   "nbconvert_exporter": "python",
   "pygments_lexer": "ipython3",
   "version": "3.8.10"
  },
  "orig_nbformat": 4
 },
 "nbformat": 4,
 "nbformat_minor": 2
}
